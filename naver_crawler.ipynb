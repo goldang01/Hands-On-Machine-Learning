{
 "cells": [
  {
   "cell_type": "code",
   "execution_count": 2,
   "id": "4ac2a722",
   "metadata": {},
   "outputs": [],
   "source": [
    "import pandas as pd"
   ]
  },
  {
   "cell_type": "code",
   "execution_count": 7,
   "id": "d84b1d64",
   "metadata": {},
   "outputs": [],
   "source": [
    "cr = pd.read_csv('./data/naver_crawler.csv')"
   ]
  },
  {
   "cell_type": "code",
   "execution_count": 8,
   "id": "d5479b67",
   "metadata": {},
   "outputs": [],
   "source": [
    "pd = pd.read_csv('./data/product_df_total.csv')"
   ]
  },
  {
   "cell_type": "code",
   "execution_count": 9,
   "id": "417f13a3",
   "metadata": {},
   "outputs": [
    {
     "data": {
      "text/html": [
       "<div>\n",
       "<style scoped>\n",
       "    .dataframe tbody tr th:only-of-type {\n",
       "        vertical-align: middle;\n",
       "    }\n",
       "\n",
       "    .dataframe tbody tr th {\n",
       "        vertical-align: top;\n",
       "    }\n",
       "\n",
       "    .dataframe thead th {\n",
       "        text-align: right;\n",
       "    }\n",
       "</style>\n",
       "<table border=\"1\" class=\"dataframe\">\n",
       "  <thead>\n",
       "    <tr style=\"text-align: right;\">\n",
       "      <th></th>\n",
       "      <th>대분류</th>\n",
       "      <th>소분류</th>\n",
       "      <th>cate_url_middle</th>\n",
       "    </tr>\n",
       "  </thead>\n",
       "  <tbody>\n",
       "    <tr>\n",
       "      <th>0</th>\n",
       "      <td>스킨케어</td>\n",
       "      <td>넥케어</td>\n",
       "      <td>https://search.shopping.naver.com/best100v2/de...</td>\n",
       "    </tr>\n",
       "    <tr>\n",
       "      <th>1</th>\n",
       "      <td>스킨케어</td>\n",
       "      <td>스킨/토너</td>\n",
       "      <td>https://search.shopping.naver.com/best100v2/de...</td>\n",
       "    </tr>\n",
       "    <tr>\n",
       "      <th>2</th>\n",
       "      <td>스킨케어</td>\n",
       "      <td>로션</td>\n",
       "      <td>https://search.shopping.naver.com/best100v2/de...</td>\n",
       "    </tr>\n",
       "    <tr>\n",
       "      <th>3</th>\n",
       "      <td>스킨케어</td>\n",
       "      <td>에센스</td>\n",
       "      <td>https://search.shopping.naver.com/best100v2/de...</td>\n",
       "    </tr>\n",
       "    <tr>\n",
       "      <th>4</th>\n",
       "      <td>스킨케어</td>\n",
       "      <td>크림</td>\n",
       "      <td>https://search.shopping.naver.com/best100v2/de...</td>\n",
       "    </tr>\n",
       "  </tbody>\n",
       "</table>\n",
       "</div>"
      ],
      "text/plain": [
       "    대분류    소분류                                    cate_url_middle\n",
       "0  스킨케어    넥케어  https://search.shopping.naver.com/best100v2/de...\n",
       "1  스킨케어  스킨/토너  https://search.shopping.naver.com/best100v2/de...\n",
       "2  스킨케어     로션  https://search.shopping.naver.com/best100v2/de...\n",
       "3  스킨케어    에센스  https://search.shopping.naver.com/best100v2/de...\n",
       "4  스킨케어     크림  https://search.shopping.naver.com/best100v2/de..."
      ]
     },
     "execution_count": 9,
     "metadata": {},
     "output_type": "execute_result"
    }
   ],
   "source": [
    "cr.head()"
   ]
  },
  {
   "cell_type": "code",
   "execution_count": 10,
   "id": "afc94958",
   "metadata": {},
   "outputs": [
    {
     "data": {
      "text/html": [
       "<div>\n",
       "<style scoped>\n",
       "    .dataframe tbody tr th:only-of-type {\n",
       "        vertical-align: middle;\n",
       "    }\n",
       "\n",
       "    .dataframe tbody tr th {\n",
       "        vertical-align: top;\n",
       "    }\n",
       "\n",
       "    .dataframe thead th {\n",
       "        text-align: right;\n",
       "    }\n",
       "</style>\n",
       "<table border=\"1\" class=\"dataframe\">\n",
       "  <thead>\n",
       "    <tr style=\"text-align: right;\">\n",
       "      <th></th>\n",
       "      <th>대분류</th>\n",
       "      <th>소분류</th>\n",
       "      <th>product_rank</th>\n",
       "      <th>product_title</th>\n",
       "      <th>product_price</th>\n",
       "      <th>product_review</th>\n",
       "      <th>product_url</th>\n",
       "    </tr>\n",
       "  </thead>\n",
       "  <tbody>\n",
       "    <tr>\n",
       "      <th>0</th>\n",
       "      <td>스킨케어</td>\n",
       "      <td>넥케어</td>\n",
       "      <td>\\n                      best\\n                ...</td>\n",
       "      <td>\\n                벨라수 기린 넥프팅 크림 45g\\n</td>\n",
       "      <td>\\n                최저6,250원\\n</td>\n",
       "      <td>상품평 (2,925)</td>\n",
       "      <td>https://cr2.shopping.naver.com/adcr.nhn?x=uB0Q...</td>\n",
       "    </tr>\n",
       "    <tr>\n",
       "      <th>1</th>\n",
       "      <td>스킨케어</td>\n",
       "      <td>넥케어</td>\n",
       "      <td>\\n                      best\\n                ...</td>\n",
       "      <td>\\n                메디필 나이테 실 넥크림 100ml\\n</td>\n",
       "      <td>\\n                최저8,980원\\n</td>\n",
       "      <td>상품평 (2,663)</td>\n",
       "      <td>https://cr2.shopping.naver.com/adcr.nhn?x=p8Ck...</td>\n",
       "    </tr>\n",
       "    <tr>\n",
       "      <th>2</th>\n",
       "      <td>스킨케어</td>\n",
       "      <td>넥케어</td>\n",
       "      <td>\\n                      best\\n                ...</td>\n",
       "      <td>\\n                벨라코스메틱 넥크림 프레스티지 에이지 킬...\\n</td>\n",
       "      <td>\\n                최저13,680원\\n</td>\n",
       "      <td>상품평 (86)</td>\n",
       "      <td>https://cr2.shopping.naver.com/adcr.nhn?x=xv%2...</td>\n",
       "    </tr>\n",
       "    <tr>\n",
       "      <th>3</th>\n",
       "      <td>스킨케어</td>\n",
       "      <td>넥케어</td>\n",
       "      <td>\\n                      best\\n                ...</td>\n",
       "      <td>\\n                이니스프리 자연발효 에너지 넥크림 80ml\\n</td>\n",
       "      <td>\\n                최저11,140원\\n</td>\n",
       "      <td>상품평 (430)</td>\n",
       "      <td>https://cr2.shopping.naver.com/adcr.nhn?x=ieNq...</td>\n",
       "    </tr>\n",
       "    <tr>\n",
       "      <th>4</th>\n",
       "      <td>스킨케어</td>\n",
       "      <td>넥케어</td>\n",
       "      <td>\\n                      best\\n                ...</td>\n",
       "      <td>\\n                네이처카인드 인텐스 리프팅 넥크림 50g\\n</td>\n",
       "      <td>\\n                최저14,320원\\n</td>\n",
       "      <td>상품평 (1,019)</td>\n",
       "      <td>https://cr2.shopping.naver.com/adcr.nhn?x=alAQ...</td>\n",
       "    </tr>\n",
       "  </tbody>\n",
       "</table>\n",
       "</div>"
      ],
      "text/plain": [
       "    대분류  소분류                                       product_rank  \\\n",
       "0  스킨케어  넥케어  \\n                      best\\n                ...   \n",
       "1  스킨케어  넥케어  \\n                      best\\n                ...   \n",
       "2  스킨케어  넥케어  \\n                      best\\n                ...   \n",
       "3  스킨케어  넥케어  \\n                      best\\n                ...   \n",
       "4  스킨케어  넥케어  \\n                      best\\n                ...   \n",
       "\n",
       "                                   product_title  \\\n",
       "0          \\n                벨라수 기린 넥프팅 크림 45g\\n   \n",
       "1        \\n                메디필 나이테 실 넥크림 100ml\\n   \n",
       "2  \\n                벨라코스메틱 넥크림 프레스티지 에이지 킬...\\n   \n",
       "3    \\n                이니스프리 자연발효 에너지 넥크림 80ml\\n   \n",
       "4     \\n                네이처카인드 인텐스 리프팅 넥크림 50g\\n   \n",
       "\n",
       "                   product_price product_review  \\\n",
       "0   \\n                최저6,250원\\n    상품평 (2,925)   \n",
       "1   \\n                최저8,980원\\n    상품평 (2,663)   \n",
       "2  \\n                최저13,680원\\n       상품평 (86)   \n",
       "3  \\n                최저11,140원\\n      상품평 (430)   \n",
       "4  \\n                최저14,320원\\n    상품평 (1,019)   \n",
       "\n",
       "                                         product_url  \n",
       "0  https://cr2.shopping.naver.com/adcr.nhn?x=uB0Q...  \n",
       "1  https://cr2.shopping.naver.com/adcr.nhn?x=p8Ck...  \n",
       "2  https://cr2.shopping.naver.com/adcr.nhn?x=xv%2...  \n",
       "3  https://cr2.shopping.naver.com/adcr.nhn?x=ieNq...  \n",
       "4  https://cr2.shopping.naver.com/adcr.nhn?x=alAQ...  "
      ]
     },
     "execution_count": 10,
     "metadata": {},
     "output_type": "execute_result"
    }
   ],
   "source": [
    "pd.head()"
   ]
  },
  {
   "cell_type": "code",
   "execution_count": 11,
   "id": "df3ad36a",
   "metadata": {},
   "outputs": [
    {
     "name": "stdout",
     "output_type": "stream",
     "text": [
      "<class 'pandas.core.frame.DataFrame'>\n",
      "RangeIndex: 120 entries, 0 to 119\n",
      "Data columns (total 3 columns):\n",
      " #   Column           Non-Null Count  Dtype \n",
      "---  ------           --------------  ----- \n",
      " 0   대분류              120 non-null    object\n",
      " 1   소분류              120 non-null    object\n",
      " 2   cate_url_middle  120 non-null    object\n",
      "dtypes: object(3)\n",
      "memory usage: 2.9+ KB\n"
     ]
    }
   ],
   "source": [
    "cr.info()"
   ]
  },
  {
   "cell_type": "code",
   "execution_count": 12,
   "id": "305ee1e4",
   "metadata": {},
   "outputs": [
    {
     "name": "stdout",
     "output_type": "stream",
     "text": [
      "<class 'pandas.core.frame.DataFrame'>\n",
      "RangeIndex: 9267 entries, 0 to 9266\n",
      "Data columns (total 7 columns):\n",
      " #   Column          Non-Null Count  Dtype \n",
      "---  ------          --------------  ----- \n",
      " 0   대분류             9267 non-null   object\n",
      " 1   소분류             9267 non-null   object\n",
      " 2   product_rank    9267 non-null   object\n",
      " 3   product_title   9267 non-null   object\n",
      " 4   product_price   9267 non-null   object\n",
      " 5   product_review  9267 non-null   object\n",
      " 6   product_url     9267 non-null   object\n",
      "dtypes: object(7)\n",
      "memory usage: 506.9+ KB\n"
     ]
    }
   ],
   "source": [
    "pd.info()"
   ]
  },
  {
   "cell_type": "code",
   "execution_count": null,
   "id": "1b4cbbd7",
   "metadata": {},
   "outputs": [],
   "source": []
  }
 ],
 "metadata": {
  "kernelspec": {
   "display_name": "Python 3",
   "language": "python",
   "name": "python3"
  },
  "language_info": {
   "codemirror_mode": {
    "name": "ipython",
    "version": 3
   },
   "file_extension": ".py",
   "mimetype": "text/x-python",
   "name": "python",
   "nbconvert_exporter": "python",
   "pygments_lexer": "ipython3",
   "version": "3.8.8"
  }
 },
 "nbformat": 4,
 "nbformat_minor": 5
}
