{
 "cells": [
  {
   "cell_type": "markdown",
   "id": "092ec88d",
   "metadata": {},
   "source": [
    "<center>\n",
    "<img src=\"http://image.kyobobook.co.kr/images/book/xlarge/964/x9791162242964.jpg\" width=\"250\" height=\"250\"><br>\n",
    "</center>\n",
    "\n",
    "\n",
    " # 핸즈온 머신러닝[2판]\n",
    " \n",
    " ## PART 1 머신러닝\n",
    "\n",
    "#### 1장 한눈에 보는 머신러닝\n",
    "#### 2장 머신러닝 프로젝트 처음부터 끝까지\n",
    "#### 3장 분류\n",
    "#### 4장 모델훈련\n",
    "#### 5장 서포트 벡터 머신\n",
    "#### 6장 결정트리\n",
    "#### 7장 앙상블 학습과 랜덤 포레스트\n",
    "#### 8장 차원 축소\n"
   ]
  },
  {
   "cell_type": "markdown",
   "id": "e4e5eb2b",
   "metadata": {},
   "source": [
    "ubuntu20 conda"
   ]
  },
  {
   "cell_type": "code",
   "execution_count": null,
   "id": "2f87360f",
   "metadata": {},
   "outputs": [],
   "source": []
  }
 ],
 "metadata": {
  "kernelspec": {
   "display_name": "Python 3",
   "language": "python",
   "name": "python3"
  },
  "language_info": {
   "codemirror_mode": {
    "name": "ipython",
    "version": 3
   },
   "file_extension": ".py",
   "mimetype": "text/x-python",
   "name": "python",
   "nbconvert_exporter": "python",
   "pygments_lexer": "ipython3",
   "version": "3.8.8"
  }
 },
 "nbformat": 4,
 "nbformat_minor": 5
}
